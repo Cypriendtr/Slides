{
 "cells": [
  {
   "cell_type": "markdown",
   "metadata": {},
   "source": [
    "[![Open In Colab](https://colab.research.google.com/assets/colab-badge.svg)](https://colab.research.google.com/drive/14B1KCyQy3CKzcr-jF4j99w1I5ONF1XUv?usp=sharing)"
   ]
  },
  {
   "cell_type": "code",
   "execution_count": null,
   "metadata": {},
   "outputs": [],
   "source": [
    "'''\n",
    "BrainHack Marseille\n",
    "Cyprien Dautrevaux et Alexandre Lainé\n",
    "'''"
   ]
  },
  {
   "cell_type": "markdown",
   "metadata": {},
   "source": [
    "# Introduction: Interface and Variables"
   ]
  },
  {
   "cell_type": "markdown",
   "metadata": {},
   "source": [
    "## This is Notebook cell $\\Downarrow$ "
   ]
  },
  {
   "cell_type": "code",
   "execution_count": null,
   "metadata": {},
   "outputs": [],
   "source": []
  },
  {
   "cell_type": "markdown",
   "metadata": {},
   "source": [
    "## This is where you can write Python. \n",
    "\n",
    "### With your work you may be used to Matlab or R where you have create script and run them in small batch or as a whole. \n",
    "\n",
    "### In python we can do the same by writting huge scripts, or can do what's called a Notebook. In a Notebook every cell is like an empty script file. \n",
    "\n",
    "### The main interest of such a file is that all those cell are related and in the end it is easier to read, understand and share with new collaborators."
   ]
  },
  {
   "cell_type": "markdown",
   "metadata": {},
   "source": [
    "# Variables in python \n",
    "\n",
    "#### In Python like with many other programming languages the interest is to write scripts to help us perform some task, it can either be some data analysis, data acquisition, data management, software building, Website …\n",
    "#### In all those cases we have to deal with variables. "
   ]
  },
  {
   "cell_type": "markdown",
   "metadata": {},
   "source": [
    "### The Python language offers a wide variety of variables, ranging from the simplest to more complex types. To ease into programming, let’s start with the basics.\n",
    "\n",
    "#### The three most basic variable types are:\n",
    "\n",
    "- `Integer` or `Int`\n",
    "\n",
    "- `Float`\n",
    "\n",
    "- `String` or `Str`\n",
    "\n",
    "#### Each of these types is distinct from the others. It is therefore important when coding to understand the nature of the variables you are working with and ensure their compatibility.\n",
    "\n",
    "#### To check the type of a Python variable, you can use the built-in function  <span style=\"color: #26B260\" >  **type()**</span>."
   ]
  },
  {
   "cell_type": "markdown",
   "metadata": {},
   "source": [
    "### What's an Integer ?"
   ]
  },
  {
   "cell_type": "code",
   "execution_count": null,
   "metadata": {},
   "outputs": [],
   "source": [
    "# Integers are numerical variables containing only integer number (in french: Nombre entier) in opposition to decimal number\n",
    "\n",
    "# Here the variable \"int1\" is an integer \n",
    "int1 = 20"
   ]
  },
  {
   "cell_type": "code",
   "execution_count": 3,
   "metadata": {},
   "outputs": [
    {
     "name": "stdout",
     "output_type": "stream",
     "text": [
      "20\n"
     ]
    }
   ],
   "source": [
    "print(int1)"
   ]
  },
  {
   "cell_type": "code",
   "execution_count": 4,
   "metadata": {},
   "outputs": [
    {
     "name": "stdout",
     "output_type": "stream",
     "text": [
      "<class 'int'>\n"
     ]
    }
   ],
   "source": [
    "# By printing the type of \"int1\" we can see that it returns an integer\n",
    "print(type(int1)) "
   ]
  },
  {
   "cell_type": "markdown",
   "metadata": {},
   "source": [
    "### What's a float ?"
   ]
  },
  {
   "cell_type": "code",
   "execution_count": 5,
   "metadata": {},
   "outputs": [
    {
     "name": "stdout",
     "output_type": "stream",
     "text": [
      "2.5\n"
     ]
    }
   ],
   "source": [
    "# In opposition to integers, float variables are decimal numbers \n",
    "\n",
    "float1 = 2.5\n",
    "print(float1)"
   ]
  },
  {
   "cell_type": "code",
   "execution_count": 6,
   "metadata": {},
   "outputs": [
    {
     "name": "stdout",
     "output_type": "stream",
     "text": [
      "<class 'float'>\n"
     ]
    }
   ],
   "source": [
    "print(type(float1))"
   ]
  },
  {
   "cell_type": "code",
   "execution_count": 7,
   "metadata": {},
   "outputs": [
    {
     "name": "stdout",
     "output_type": "stream",
     "text": [
      "20.0\n"
     ]
    }
   ],
   "source": [
    "float2 = 20.0\n",
    "print(float2)"
   ]
  },
  {
   "cell_type": "markdown",
   "metadata": {},
   "source": [
    "### What's a String ?"
   ]
  },
  {
   "cell_type": "code",
   "execution_count": 9,
   "metadata": {},
   "outputs": [],
   "source": [
    "# Lastly as we have seen numerical variables, can we have written one ? \n",
    "\n",
    "# String or str are those written variables. They are called string as in a \"String of caractere\" (in French: Chaine de caractère) \n",
    "\n",
    "str1 = \"Hello BrainHack 2024\"\n",
    "\n",
    "# String are created with: \" \" or ' '"
   ]
  },
  {
   "cell_type": "code",
   "execution_count": 10,
   "metadata": {},
   "outputs": [
    {
     "name": "stdout",
     "output_type": "stream",
     "text": [
      "Hello BrainHack 2024\n"
     ]
    }
   ],
   "source": [
    "print(str1)"
   ]
  },
  {
   "cell_type": "code",
   "execution_count": 11,
   "metadata": {},
   "outputs": [
    {
     "name": "stdout",
     "output_type": "stream",
     "text": [
      "<class 'str'>\n"
     ]
    }
   ],
   "source": [
    "print(type(str1))"
   ]
  },
  {
   "cell_type": "markdown",
   "metadata": {},
   "source": [
    "### Why are we showing all those variables ? \n",
    "\n",
    "\n",
    "#### First this is a valid wonder. And to be clear, this is just to make sure that you always know what your variables are and how to check them. \n",
    "#### If you are trying to learn Python you will rapidly see that in many cases the code issues are due to incompatible variable type. A good practice would be to always check your variables. "
   ]
  },
  {
   "cell_type": "markdown",
   "metadata": {},
   "source": [
    "# Calculations in Python: Understanding Rules and Syntax\n",
    "\n",
    "#### Now that we have variables, you will likely be looking to use them and maybe perfom some calculus"
   ]
  },
  {
   "cell_type": "markdown",
   "metadata": {},
   "source": [
    "#### Math in python:\n",
    "\n",
    "*    \\+ Addition \n",
    "*    \\- Substraction\n",
    "*    \\* Mutliply\n",
    "*    \\** Power\n",
    "*    / Divide\n",
    "\n",
    "\n",
    "#### Advanced symbols:\n",
    "*   @ Matrix product\n",
    "*   % Rest of Euclidean division\n",
    "*   \\\\\\ Quotient of Euclidean division"
   ]
  },
  {
   "cell_type": "code",
   "execution_count": 14,
   "metadata": {},
   "outputs": [
    {
     "name": "stdout",
     "output_type": "stream",
     "text": [
      "hello world\n"
     ]
    }
   ],
   "source": [
    "str2 = \"hello\"\n",
    "str3 = \" world\"\n",
    "print(str2 + str3)"
   ]
  },
  {
   "cell_type": "code",
   "execution_count": 18,
   "metadata": {},
   "outputs": [
    {
     "data": {
      "text/plain": [
       "2.5"
      ]
     },
     "execution_count": 18,
     "metadata": {},
     "output_type": "execute_result"
    }
   ],
   "source": [
    "5 / 2"
   ]
  },
  {
   "cell_type": "code",
   "execution_count": 19,
   "metadata": {},
   "outputs": [
    {
     "data": {
      "text/plain": [
       "2"
      ]
     },
     "execution_count": 19,
     "metadata": {},
     "output_type": "execute_result"
    }
   ],
   "source": [
    "5 // 2"
   ]
  },
  {
   "cell_type": "code",
   "execution_count": 20,
   "metadata": {},
   "outputs": [
    {
     "data": {
      "text/plain": [
       "1"
      ]
     },
     "execution_count": 20,
     "metadata": {},
     "output_type": "execute_result"
    }
   ],
   "source": [
    "5 % 2"
   ]
  },
  {
   "cell_type": "code",
   "execution_count": 16,
   "metadata": {},
   "outputs": [
    {
     "name": "stdout",
     "output_type": "stream",
     "text": [
      "Hello BrainHack 2024\n"
     ]
    }
   ],
   "source": [
    "# Cool feature, F-string in python \n",
    "year = \"2024\"\n",
    "print(f\"Hello BrainHack {year}\")"
   ]
  },
  {
   "cell_type": "code",
   "execution_count": 17,
   "metadata": {},
   "outputs": [
    {
     "name": "stdout",
     "output_type": "stream",
     "text": [
      "The results of the division of 8 by 2 is 4.0, the quotient is 4, and the rest is 0\n"
     ]
    }
   ],
   "source": [
    "# This very usefull will doing some calculus, and to print so results \n",
    "int2 = 8\n",
    "int3 = 2\n",
    "print(f\"The results of the division of {int2} by {int3} is {int2 / int3}, the quotient is {int2 // int3}, and the rest is {int2 % int3}\")"
   ]
  },
  {
   "cell_type": "markdown",
   "metadata": {},
   "source": [
    "### Classical type errors"
   ]
  },
  {
   "cell_type": "code",
   "execution_count": 22,
   "metadata": {},
   "outputs": [],
   "source": [
    "str4 = \"Bonjour\"\n",
    "str5 = \"20\"\n",
    "\n",
    "int4 = 20\n",
    "\n",
    "float3 = 12.2"
   ]
  },
  {
   "cell_type": "code",
   "execution_count": null,
   "metadata": {},
   "outputs": [
    {
     "name": "stdout",
     "output_type": "stream",
     "text": [
      "22\n"
     ]
    }
   ],
   "source": [
    "print(int3 + int4) # int + int"
   ]
  },
  {
   "cell_type": "code",
   "execution_count": 25,
   "metadata": {},
   "outputs": [
    {
     "name": "stdout",
     "output_type": "stream",
     "text": [
      "14.7\n"
     ]
    }
   ],
   "source": [
    "print(float1 + float3) # float + float"
   ]
  },
  {
   "cell_type": "code",
   "execution_count": null,
   "metadata": {},
   "outputs": [
    {
     "name": "stdout",
     "output_type": "stream",
     "text": [
      "32.2\n"
     ]
    }
   ],
   "source": [
    "print(int4 + float3) # We can add int + int, as well as float + float but also int and float"
   ]
  },
  {
   "cell_type": "code",
   "execution_count": null,
   "metadata": {},
   "outputs": [
    {
     "ename": "TypeError",
     "evalue": "unsupported operand type(s) for +: 'int' and 'str'",
     "output_type": "error",
     "traceback": [
      "\u001b[0;31m---------------------------------------------------------------------------\u001b[0m",
      "\u001b[0;31mTypeError\u001b[0m                                 Traceback (most recent call last)",
      "Cell \u001b[0;32mIn[26], line 3\u001b[0m\n\u001b[1;32m      1\u001b[0m \u001b[38;5;66;03m# But here is the problem\u001b[39;00m\n\u001b[0;32m----> 3\u001b[0m \u001b[38;5;28mprint\u001b[39m(\u001b[43mint4\u001b[49m\u001b[43m \u001b[49m\u001b[38;5;241;43m+\u001b[39;49m\u001b[43m \u001b[49m\u001b[43mstr5\u001b[49m)\n",
      "\u001b[0;31mTypeError\u001b[0m: unsupported operand type(s) for +: 'int' and 'str'"
     ]
    }
   ],
   "source": [
    "# But here is the problem\n",
    "\n",
    "print(int4 + str5) # Here we have an error even if str5 is \"20\""
   ]
  },
  {
   "cell_type": "code",
   "execution_count": 29,
   "metadata": {},
   "outputs": [
    {
     "name": "stdout",
     "output_type": "stream",
     "text": [
      "Float 5 switched to integer <class 'int'>\n",
      "40\n"
     ]
    }
   ],
   "source": [
    "# Here you have the typical caricatural error of variable type incompatibility\n",
    "# To solve this issue you can change the type of a variable to an other\n",
    "\n",
    "int5 = int(str5)\n",
    "print(f\"Float 5 switched to integer {type(int5)}\")\n",
    "\n",
    "print(int5 + int4) # And now it works"
   ]
  },
  {
   "cell_type": "markdown",
   "metadata": {},
   "source": [
    "# Can we have variables that containes several values"
   ]
  },
  {
   "cell_type": "markdown",
   "metadata": {},
   "source": [
    "## Variables : List, Tuples, Dictionnaires :"
   ]
  },
  {
   "cell_type": "markdown",
   "metadata": {},
   "source": [
    "### List"
   ]
  },
  {
   "cell_type": "code",
   "execution_count": 45,
   "metadata": {},
   "outputs": [],
   "source": [
    "list1 = [1, 2, 3, 4]\n",
    "list2 = [1, 2, \"bonjour\", 4.5]"
   ]
  },
  {
   "cell_type": "code",
   "execution_count": 36,
   "metadata": {},
   "outputs": [
    {
     "name": "stdout",
     "output_type": "stream",
     "text": [
      "[1, 2, 3, 4, 1, 2, 'bonjour', 4.5]\n"
     ]
    }
   ],
   "source": [
    "list3 = list1 + list2\n",
    "print(list3)"
   ]
  },
  {
   "cell_type": "code",
   "execution_count": 37,
   "metadata": {},
   "outputs": [
    {
     "name": "stdout",
     "output_type": "stream",
     "text": [
      "1\n"
     ]
    }
   ],
   "source": [
    "# Recover values in the list \n",
    "print(list1[0])"
   ]
  },
  {
   "cell_type": "code",
   "execution_count": 38,
   "metadata": {},
   "outputs": [
    {
     "name": "stdout",
     "output_type": "stream",
     "text": [
      "4\n"
     ]
    }
   ],
   "source": [
    "print(list1[-1])"
   ]
  },
  {
   "cell_type": "code",
   "execution_count": 39,
   "metadata": {},
   "outputs": [
    {
     "name": "stdout",
     "output_type": "stream",
     "text": [
      "<class 'str'>\n"
     ]
    }
   ],
   "source": [
    "print(type(list2[2]))"
   ]
  },
  {
   "cell_type": "code",
   "execution_count": null,
   "metadata": {},
   "outputs": [
    {
     "data": {
      "text/plain": [
       "list"
      ]
     },
     "execution_count": 41,
     "metadata": {},
     "output_type": "execute_result"
    }
   ],
   "source": [
    "# Create empty list and add values inside\n",
    "empty_liste = []\n",
    "type(empty_liste)"
   ]
  },
  {
   "cell_type": "code",
   "execution_count": null,
   "metadata": {},
   "outputs": [],
   "source": [
    "# Add 1 to the empty list\n",
    "empty_liste.append(1)\n",
    "print(empty_liste)"
   ]
  },
  {
   "cell_type": "code",
   "execution_count": null,
   "metadata": {},
   "outputs": [],
   "source": [
    "### The list are mutable "
   ]
  },
  {
   "cell_type": "code",
   "execution_count": 46,
   "metadata": {},
   "outputs": [
    {
     "name": "stdout",
     "output_type": "stream",
     "text": [
      "List1 before mutation [1, 2, 3, 4]\n",
      "List1 after mutation[1, 2, 'bonjour', 4]\n"
     ]
    }
   ],
   "source": [
    "print(f\"List1 before mutation {list1}\")\n",
    "\n",
    "list1[2] = \"bonjour\"\n",
    "\n",
    "print(f\"List1 after mutation{list1}\")"
   ]
  },
  {
   "cell_type": "markdown",
   "metadata": {},
   "source": [
    "### Tuple"
   ]
  },
  {
   "cell_type": "code",
   "execution_count": 54,
   "metadata": {},
   "outputs": [
    {
     "data": {
      "text/plain": [
       "(1, 2, 3)"
      ]
     },
     "execution_count": 54,
     "metadata": {},
     "output_type": "execute_result"
    }
   ],
   "source": [
    "Tuple1 = (1, 2, 3)\n",
    "Tuple1"
   ]
  },
  {
   "cell_type": "code",
   "execution_count": 55,
   "metadata": {},
   "outputs": [
    {
     "data": {
      "text/plain": [
       "(1, 2, 3, 1, 2, 3)"
      ]
     },
     "execution_count": 55,
     "metadata": {},
     "output_type": "execute_result"
    }
   ],
   "source": [
    "Tuple1 * 2"
   ]
  },
  {
   "cell_type": "code",
   "execution_count": 56,
   "metadata": {},
   "outputs": [
    {
     "data": {
      "text/plain": [
       "2"
      ]
     },
     "execution_count": 56,
     "metadata": {},
     "output_type": "execute_result"
    }
   ],
   "source": [
    "Tuple1[1]"
   ]
  },
  {
   "cell_type": "code",
   "execution_count": 58,
   "metadata": {},
   "outputs": [
    {
     "ename": "TypeError",
     "evalue": "'tuple' object does not support item assignment",
     "output_type": "error",
     "traceback": [
      "\u001b[0;31m---------------------------------------------------------------------------\u001b[0m",
      "\u001b[0;31mTypeError\u001b[0m                                 Traceback (most recent call last)",
      "Cell \u001b[0;32mIn[58], line 2\u001b[0m\n\u001b[1;32m      1\u001b[0m \u001b[38;5;66;03m# The tuple are imutable, so they only contains values you don't want to change\u001b[39;00m\n\u001b[0;32m----> 2\u001b[0m \u001b[43mTuple1\u001b[49m\u001b[43m[\u001b[49m\u001b[38;5;241;43m1\u001b[39;49m\u001b[43m]\u001b[49m \u001b[38;5;241m=\u001b[39m \u001b[38;5;241m3\u001b[39m\n",
      "\u001b[0;31mTypeError\u001b[0m: 'tuple' object does not support item assignment"
     ]
    }
   ],
   "source": [
    "# The tuple are imutable, so they only contains values you don't want to change\n",
    "Tuple1[1] = 3"
   ]
  },
  {
   "cell_type": "markdown",
   "metadata": {},
   "source": [
    "### Dictionnary"
   ]
  },
  {
   "cell_type": "code",
   "execution_count": 48,
   "metadata": {},
   "outputs": [],
   "source": [
    "dico = {} # Dict are difined with {}"
   ]
  },
  {
   "cell_type": "code",
   "execution_count": 49,
   "metadata": {},
   "outputs": [
    {
     "name": "stdout",
     "output_type": "stream",
     "text": [
      "{'dog': 'Labrador', 'cat': 'Siamois'}\n"
     ]
    }
   ],
   "source": [
    "dico[\"dog\"] = \"Labrador\"\n",
    "dico[\"cat\"] = \"Siamois\"\n",
    "print(dico)"
   ]
  },
  {
   "cell_type": "code",
   "execution_count": 51,
   "metadata": {},
   "outputs": [
    {
     "name": "stdout",
     "output_type": "stream",
     "text": [
      "Labrador\n"
     ]
    }
   ],
   "source": [
    "print(dico[\"dog\"])"
   ]
  },
  {
   "cell_type": "code",
   "execution_count": 53,
   "metadata": {},
   "outputs": [
    {
     "name": "stdout",
     "output_type": "stream",
     "text": [
      "-3850\n",
      "{'E_Na': 55, 'V_resting': -70}\n"
     ]
    }
   ],
   "source": [
    "Stim_parameters = {}\n",
    "\n",
    "Stim_parameters[\"E_Na\"] = 55\n",
    "Stim_parameters[\"V_resting\"] = -70\n",
    "\n",
    "print(Stim_parameters[\"E_Na\"] * Stim_parameters[\"V_resting\"])\n",
    "print(Stim_parameters)"
   ]
  },
  {
   "cell_type": "markdown",
   "metadata": {},
   "source": [
    "# Apply math on list of variables "
   ]
  },
  {
   "cell_type": "code",
   "execution_count": null,
   "metadata": {},
   "outputs": [],
   "source": [
    "import numpy as np # To call numpy we can use only np"
   ]
  },
  {
   "cell_type": "code",
   "execution_count": 3,
   "metadata": {},
   "outputs": [
    {
     "name": "stdout",
     "output_type": "stream",
     "text": [
      "<class 'numpy.ndarray'> (3,) [1 2 3]\n"
     ]
    }
   ],
   "source": [
    "array = np.array([1, 2, 3])\n",
    "print(type(array), array.shape, array)"
   ]
  },
  {
   "cell_type": "code",
   "execution_count": null,
   "metadata": {},
   "outputs": [
    {
     "name": "stdout",
     "output_type": "stream",
     "text": [
      "The resultq of [1 2 3] times 2 is: [2 4 6]\n"
     ]
    }
   ],
   "source": [
    "array_product = array * 2\n",
    "print(f\"The result of {array} times 2 is: {array_product}\") # As you can see here every single values have been mutliply by 2\n",
    "# In opposition to what we saw with the list"
   ]
  },
  {
   "cell_type": "code",
   "execution_count": 5,
   "metadata": {},
   "outputs": [
    {
     "name": "stdout",
     "output_type": "stream",
     "text": [
      "[0 1 2] [1 2 3]\n"
     ]
    }
   ],
   "source": [
    "array_minus = array - 1\n",
    "print(array_minus, array) # This works similarly with different math calculus"
   ]
  },
  {
   "cell_type": "markdown",
   "metadata": {},
   "source": [
    "### The interest of Numpy doesn't stop here as it propose some very interesting built in function"
   ]
  },
  {
   "cell_type": "code",
   "execution_count": 7,
   "metadata": {},
   "outputs": [
    {
     "name": "stdout",
     "output_type": "stream",
     "text": [
      "[0 1 2 3 4 5 6 7 8 9]\n"
     ]
    }
   ],
   "source": [
    "array2 = np.arange(start = 0, stop = 10, step = 1)\n",
    "print(array2) # create an even spaced array from 0 to 10 (not included), with a step of 1"
   ]
  },
  {
   "cell_type": "code",
   "execution_count": 11,
   "metadata": {},
   "outputs": [
    {
     "name": "stdout",
     "output_type": "stream",
     "text": [
      "The mean of the array2 is: 4.5\n"
     ]
    }
   ],
   "source": [
    "print(f\"The mean of the array2 is: {np.mean(array2)}\") # Numpy has some very usefull function such as mean, or std\n",
    "\n",
    "# As you can understand a good practice in data analysis and python overall is to really in Numpy and the Arrays for calculus"
   ]
  },
  {
   "cell_type": "markdown",
   "metadata": {},
   "source": [
    "# Exercise: \n",
    "#### Now it's your turn to code. \n",
    "#### For this very first exercice, let's play with the `input` build in function that will ask the users to give a variable. Using this `input` function can you make a bit of code that will automatically print the average speed of trip based on the travelled distance and duration ?\n"
   ]
  },
  {
   "cell_type": "code",
   "execution_count": 15,
   "metadata": {},
   "outputs": [],
   "source": [
    "def speed_calculus():\n",
    "    distance = float(input(\"What's the travelled distance in km ?\"))\n",
    "    duration = float(input(\"How long did it take to cover this distance in hours ?\"))\n",
    "    speed = distance/duration\n",
    "    print(f\"The average speed was: {speed} km per hour\")\n",
    "    return speed"
   ]
  },
  {
   "cell_type": "code",
   "execution_count": 18,
   "metadata": {},
   "outputs": [
    {
     "name": "stdout",
     "output_type": "stream",
     "text": [
      "The average speed was: 60.0 km per hour\n"
     ]
    }
   ],
   "source": [
    "speed = speed_calculus()"
   ]
  }
 ],
 "metadata": {
  "kernelspec": {
   "display_name": "base",
   "language": "python",
   "name": "python3"
  },
  "language_info": {
   "codemirror_mode": {
    "name": "ipython",
    "version": 3
   },
   "file_extension": ".py",
   "mimetype": "text/x-python",
   "name": "python",
   "nbconvert_exporter": "python",
   "pygments_lexer": "ipython3",
   "version": "3.12.4"
  }
 },
 "nbformat": 4,
 "nbformat_minor": 2
}
