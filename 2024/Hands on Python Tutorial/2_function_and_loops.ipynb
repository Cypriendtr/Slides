{
 "cells": [
  {
   "cell_type": "markdown",
   "metadata": {},
   "source": [
    "[![Open In Colab](https://colab.research.google.com/assets/colab-badge.svg)](https://colab.research.google.com/drive/1h1gh5zoNRvAlM1PJ1Qy9ROs4kXlEu_o_?usp=sharing)"
   ]
  },
  {
   "cell_type": "code",
   "execution_count": null,
   "metadata": {},
   "outputs": [],
   "source": [
    "'''\n",
    "BrainHack Marseille\n",
    "Cyprien Dautrevaux et Alexandre Lainé\n",
    "'''"
   ]
  },
  {
   "cell_type": "markdown",
   "metadata": {},
   "source": [
    "# Functions and Loops\n",
    "\n",
    "To get into the practical aspects and fully start utilizing Python's capabilities, we need to focus on functions and loops to automate certain commands. \n",
    "\n",
    "Loops, as their name suggests, allow for the repetition of multiple actions and the imposition of conditions. Functions, analogous to mathematical operations, enable the creation of a sequence of calculations using variables and the retrieval of a result.\n",
    "\n",
    "These two aspects complement each other: we can execute multiple loops within a function and, conversely, execute one or more functions within a loop.\n",
    "\n",
    "The concept may seem abstract at first, but we’ll clarify it together.\n",
    "\n",
    "### Defining Loops in Python\n",
    "Loops are defined using several terms: `if`, `elif`, `else`, and `while`. These terms specify the various conditions of the loops.\n",
    "\n",
    "* The term `if` corresponds to the condition **if** or **si** in french.\n",
    "\n",
    "* The term `elif` refers to **else if**.\n",
    "\n",
    "* The term `else` means finally.\n",
    "\n",
    "* In an `if` loop, there can only be one `if` condition and one `else` condition.\n",
    "\n",
    "The `if` starts the loop, the `else` ends it, and in between, you can use as many `elif` conditions as you want.\n",
    "\n",
    "The term while corresponds to **as long as …** or **tant que …**and defines a condition to be met. The loop will continue as long as the initial condition is not fulfilled."
   ]
  },
  {
   "cell_type": "markdown",
   "metadata": {},
   "source": [
    "## `While` Loops:"
   ]
  },
  {
   "cell_type": "code",
   "execution_count": 4,
   "metadata": {},
   "outputs": [
    {
     "name": "stdout",
     "output_type": "stream",
     "text": [
      "0\n",
      "1\n",
      "2\n",
      "3\n",
      "4\n",
      "5\n",
      "6\n",
      "7\n",
      "8\n",
      "9\n"
     ]
    }
   ],
   "source": [
    "a = 0\n",
    "while a < 10: \n",
    "    print(a)\n",
    "    a += 1\n",
    "\n",
    "# Here, the while loop runs as long as `a` is strictly less than 10.\n",
    "# We use print inside the loop and ensure to increment `a`, otherwise, the loop will run infinitely.\n",
    "# Note that the last printed result is 9 and not 10, as the print function occurs before adding 1 to `a`.\n",
    "# After the print, `a + 1 = 10`, so the while condition is no longer satisfied, and the loop stops."
   ]
  },
  {
   "cell_type": "markdown",
   "metadata": {},
   "source": [
    "## Python conditions \n",
    "\n",
    "* a == b $\\rightarrow$ a is equal to b\n",
    "* a != b $\\rightarrow$ a is diffent than b\n",
    "#\n",
    "\n",
    "* a < b $\\rightarrow$ a is smaller than b\n",
    "* a > b $\\rightarrow$ a is bigger than b\n",
    "#\n",
    "\n",
    "* a <= b $\\rightarrow$ a is smaller or equal to b\n",
    "* a >= b $\\rightarrow$ a is bigger or equal to b\n"
   ]
  },
  {
   "cell_type": "code",
   "execution_count": 7,
   "metadata": {},
   "outputs": [
    {
     "name": "stdout",
     "output_type": "stream",
     "text": [
      "0 Beginning\n",
      "1\n",
      "2\n",
      "3\n",
      "4\n",
      "5 Half way\n",
      "6\n",
      "7\n",
      "8\n",
      "9\n",
      "10 Done !\n"
     ]
    }
   ],
   "source": [
    "# Exemple with if condition\n",
    "i = 0\n",
    "while i <= 10 :\n",
    "    if i == 0 :\n",
    "        print(i, \"Beginning\")\n",
    "    elif i == 5 :\n",
    "        print(i, \"Half way\")\n",
    "    elif i == 10 :\n",
    "        print(i, \"Done !\")\n",
    "    else :\n",
    "        print(i)\n",
    "    i += 1"
   ]
  },
  {
   "cell_type": "markdown",
   "metadata": {},
   "source": [
    "### There is one last type of loop, and it is the most commonly used: the `for … in …`  loops."
   ]
  },
  {
   "cell_type": "code",
   "execution_count": 9,
   "metadata": {},
   "outputs": [
    {
     "name": "stdout",
     "output_type": "stream",
     "text": [
      "The power 2 of 0 is : 0\n",
      "The power 2 of 1 is : 1\n",
      "The power 2 of 2 is : 4\n",
      "The power 2 of 3 is : 9\n",
      "The power 2 of 4 is : 16\n",
      "The power 2 of 5 is : 25\n",
      "The power 2 of 6 is : 36\n",
      "The power 2 of 7 is : 49\n",
      "The power 2 of 8 is : 64\n",
      "The power 2 of 9 is : 81\n"
     ]
    }
   ],
   "source": [
    "list1 = range(10) # Built function in numpy to give a evenly space list from 0 to 10(not include) with step 1\n",
    "\n",
    "for i in list1: # Here the for loops, iteratively attributes to `i` the values inside list1, and then i can be used inside the loops itself \n",
    "    print(f\"The power 2 of {i} is : {i**2}\")"
   ]
  },
  {
   "cell_type": "markdown",
   "metadata": {},
   "source": [
    "### Now, for functions, they are created using the `def` command, followed by the function name and the variables the function should take into account, enclosed in parentheses. For example, you write <span style=\"color: #26B260\" >  **def** </span> <span style=\"color: #1338cf\" >  **function_name (x)** </span>:.\n",
    "\n",
    "### To call this function, you will use the name given during its definition.\n",
    "\n",
    "### There is another way to define a function more simply, in a single line of code, using the `lambda` command. For example, <span style=\"color: #1338cf\" >  **lambda** </span> x : x**2, creates a function that squares a number.\n"
   ]
  },
  {
   "cell_type": "code",
   "execution_count": 11,
   "metadata": {},
   "outputs": [
    {
     "name": "stdout",
     "output_type": "stream",
     "text": [
      "The output of the square function for 2 is: 4\n"
     ]
    }
   ],
   "source": [
    "def square_func(x):\n",
    "    return x**2 # This function return the square of the input number 'x'\n",
    "\n",
    "# Here we get the \n",
    "X=2\n",
    "X_square  = square_func(X)\n",
    "\n",
    "\n",
    "print(f\"The output of the square function for {X} is: {X_square}\") # Here we have got the output of the function, and may then use it for the rest of the script \n",
    "\n",
    "# Creating function is a really good practice especially because they can be called several times for different variables without having to rewrite it all. "
   ]
  },
  {
   "cell_type": "markdown",
   "metadata": {},
   "source": [
    "# Exercise: \n",
    "#### Now it's your turn to code. \n",
    "#### Based on all the thing we saw can you create a function taking as input either a list or an array of numbers, that will be able to sort them in two new arrays. A first one containing the odd numbers and a second one contain the even numbers from the provided list or array.\n",
    "\n"
   ]
  },
  {
   "cell_type": "code",
   "execution_count": 18,
   "metadata": {},
   "outputs": [],
   "source": [
    "import numpy as np\n",
    "def even_odd_sort(list_nbr):\n",
    "    even = []\n",
    "    odd = []\n",
    "    for i in list_nbr:\n",
    "\n",
    "        if i%2 == 0:\n",
    "            even.append(i)\n",
    "        \n",
    "        else: odd.append(i)\n",
    "    return np.array(even), np.array(odd)"
   ]
  },
  {
   "cell_type": "code",
   "execution_count": 22,
   "metadata": {},
   "outputs": [
    {
     "name": "stdout",
     "output_type": "stream",
     "text": [
      "The even numbers are: [ 0  2  4  6  8 10 12 14 16 18]\n",
      "The odd numbers are: [ 1  3  5  7  9 11 13 15 17 19]\n"
     ]
    }
   ],
   "source": [
    "Mylist = np.arange(0, 20, 1)\n",
    "\n",
    "even, odd = even_odd_sort(Mylist)\n",
    "print(f\"The even numbers are: {even}\\nThe odd numbers are: {odd}\")\n",
    "\n",
    "# Et voila tout marche nickel ! "
   ]
  }
 ],
 "metadata": {
  "kernelspec": {
   "display_name": ".venv",
   "language": "python",
   "name": "python3"
  },
  "language_info": {
   "codemirror_mode": {
    "name": "ipython",
    "version": 3
   },
   "file_extension": ".py",
   "mimetype": "text/x-python",
   "name": "python",
   "nbconvert_exporter": "python",
   "pygments_lexer": "ipython3",
   "version": "3.9.6"
  }
 },
 "nbformat": 4,
 "nbformat_minor": 2
}
